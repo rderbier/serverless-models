{
 "cells": [
  {
   "cell_type": "code",
   "execution_count": 2,
   "metadata": {},
   "outputs": [
    {
     "name": "stderr",
     "output_type": "stream",
     "text": [
      "/Users/raphaelderbier/.pyenv/versions/3.11.5/lib/python3.11/site-packages/tqdm/auto.py:21: TqdmWarning: IProgress not found. Please update jupyter and ipywidgets. See https://ipywidgets.readthedocs.io/en/stable/user_install.html\n",
      "  from .autonotebook import tqdm as notebook_tqdm\n"
     ]
    }
   ],
   "source": [
    "import torch\n",
    "from transformers import AutoTokenizer, AutoModelWithLMHead\n"
   ]
  },
  {
   "cell_type": "code",
   "execution_count": 24,
   "metadata": {},
   "outputs": [
    {
     "name": "stderr",
     "output_type": "stream",
     "text": [
      "tokenizer_config.json: 100%|██████████| 2.54k/2.54k [00:00<00:00, 21.3MB/s]\n",
      "spiece.model: 100%|██████████| 792k/792k [00:00<00:00, 1.45MB/s]\n",
      "tokenizer.json: 100%|██████████| 2.42M/2.42M [00:00<00:00, 4.49MB/s]\n",
      "special_tokens_map.json: 100%|██████████| 2.20k/2.20k [00:00<00:00, 11.1MB/s]\n",
      "/Users/raphaelderbier/.pyenv/versions/3.11.5/lib/python3.11/site-packages/transformers/models/auto/modeling_auto.py:1564: FutureWarning: The class `AutoModelWithLMHead` is deprecated and will be removed in a future version. Please use `AutoModelForCausalLM` for causal language models, `AutoModelForMaskedLM` for masked language models and `AutoModelForSeq2SeqLM` for encoder-decoder models.\n",
      "  warnings.warn(\n",
      "config.json: 100%|██████████| 1.40k/1.40k [00:00<00:00, 11.2MB/s]\n",
      "model.safetensors: 100%|██████████| 308M/308M [00:08<00:00, 35.4MB/s] \n",
      "generation_config.json: 100%|██████████| 147/147 [00:00<00:00, 766kB/s]\n"
     ]
    }
   ],
   "source": [
    "tokenizer=AutoTokenizer.from_pretrained('google/flan-t5-small')\n",
    "model=AutoModelWithLMHead.from_pretrained('google/flan-t5-small', return_dict=True)"
   ]
  },
  {
   "cell_type": "code",
   "execution_count": 46,
   "metadata": {},
   "outputs": [],
   "source": [
    "sequence = (\"Data science is an interdisciplinary field[10] focused on extracting knowledge from typically large data sets and applying the knowledge and insights from that data to solve problems in a wide range of application domains.[11] The field encompasses preparing data for analysis, formulating data science problems, analyzing data, developing data-driven solutions, and presenting findings to inform high-level decisions in a broad range of application domains. As such, it incorporates skills from computer science, statistics, information science, mathematics, data visualization, information visualization, data sonification, data integration, graphic design, complex systems, communication and business.[12][13] Statistician Nathan Yau, drawing on Ben Fry, also links data science to human–computer interaction: users should be able to intuitively control and explore data.[14][15] In 2015, the American Statistical Association identified database management, statistics and machine learning, and distributed and parallel systems as the three emerging foundational professional communities.[16]\")\n",
    "# sequence = (\"Hi there, Thanks for reaching out. Your question seems to be related to a self-hosted Dgraph cluster and we're not able to locate an active enterprise support agreement with NetJets. Would you like to explore what an enterprise support agreement would entail? Ryan\")\n",
    "sequence = (\" 1 received MsgPreVoteResp from 1 at term 1, 1 became candidate at term 2, 1 received MsgVoteResp from 1 at term 2,  1 became leader at term 2, raft.node: 1 elected leader 1 at term 2, I've become the leader, updating leases.\")\n",
    "\n"
   ]
  },
  {
   "cell_type": "code",
   "execution_count": 47,
   "metadata": {},
   "outputs": [
    {
     "name": "stdout",
     "output_type": "stream",
     "text": [
      "<pad> raft.node: 1 elected leader 1 at term 2, I've become the leader, updating leases.. raft.node: 1 elected leader 1 at term 2, I've become the leader, updating leases..</s>\n"
     ]
    }
   ],
   "source": [
    "inputs=tokenizer.encode(\"summarize: \" +sequence,return_tensors='pt', max_length=512, truncation=True,padding='max_length')\n",
    "output = model.generate(inputs, min_length=40, max_length=100)\n",
    "summary=tokenizer.decode(output[0])\n",
    "print(summary)"
   ]
  }
 ],
 "metadata": {
  "kernelspec": {
   "display_name": "Python 3",
   "language": "python",
   "name": "python3"
  },
  "language_info": {
   "codemirror_mode": {
    "name": "ipython",
    "version": 3
   },
   "file_extension": ".py",
   "mimetype": "text/x-python",
   "name": "python",
   "nbconvert_exporter": "python",
   "pygments_lexer": "ipython3",
   "version": "3.11.5"
  }
 },
 "nbformat": 4,
 "nbformat_minor": 2
}
