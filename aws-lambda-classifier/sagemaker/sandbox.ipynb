{
 "cells": [
  {
   "cell_type": "code",
   "execution_count": null,
   "metadata": {},
   "outputs": [],
   "source": [
    "from transformers import AutoModelForSequenceClassification\n",
    " \n",
    "load_model = AutoModelForSequenceClassification.from_pretrained(\"/Users/raphaelderbier/Documents/Models/CustomHamSpam\").to(torch.device(\"mps\"))\n",
    " \n",
    "load_tokenizer = AutoTokenizer.from_pretrained(\"/Users/raphaelderbier/Documents/Models/CustomHamSpam\")"
   ]
  }
 ],
 "metadata": {
  "language_info": {
   "name": "python"
  }
 },
 "nbformat": 4,
 "nbformat_minor": 2
}
