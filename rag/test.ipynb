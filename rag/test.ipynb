{
 "cells": [
  {
   "cell_type": "code",
   "execution_count": 1,
   "metadata": {},
   "outputs": [
    {
     "name": "stderr",
     "output_type": "stream",
     "text": [
      "/Users/raphaelderbier/.pyenv/versions/3.11.5/lib/python3.11/site-packages/tqdm/auto.py:21: TqdmWarning: IProgress not found. Please update jupyter and ipywidgets. See https://ipywidgets.readthedocs.io/en/stable/user_install.html\n",
      "  from .autonotebook import tqdm as notebook_tqdm\n",
      "tokenizer_config.json: 100%|██████████| 727/727 [00:00<00:00, 2.78MB/s]\n",
      "tokenizer.model: 100%|██████████| 500k/500k [00:00<00:00, 5.54MB/s]\n",
      "tokenizer.json: 100%|██████████| 1.84M/1.84M [00:00<00:00, 7.62MB/s]\n",
      "special_tokens_map.json: 100%|██████████| 411/411 [00:00<00:00, 1.89MB/s]\n",
      "config.json: 100%|██████████| 887/887 [00:00<00:00, 5.68MB/s]\n",
      "pytorch_model.bin: 100%|██████████| 2.69G/2.69G [07:17<00:00, 6.14MB/s]\n",
      "generation_config.json: 100%|██████████| 132/132 [00:00<00:00, 839kB/s]\n"
     ]
    }
   ],
   "source": [
    "from transformers import AutoTokenizer, AutoModelForCausalLM  \n",
    "tokenizer = AutoTokenizer.from_pretrained(\"llmware/bling-sheared-llama-1.3b-0.1\")  \n",
    "model = AutoModelForCausalLM.from_pretrained(\"llmware/bling-sheared-llama-1.3b-0.1\")  "
   ]
  },
  {
   "cell_type": "code",
   "execution_count": 24,
   "metadata": {},
   "outputs": [
    {
     "name": "stdout",
     "output_type": "stream",
     "text": [
      "<human>: Truck loader ABC is 4 miles from here. Truck loader XYZ is 10 miles from here. Truck red is here. \n",
      "Which truck is here?\n",
      "<bot>:\n"
     ]
    }
   ],
   "source": [
    "context = \"Truck loader ABC is 4 miles from here. Truck loader XYZ is 10 miles from here. Truck red is here. \"\n",
    "question = \"Which truck is here?\"\n",
    "my_prompt = context + \"\\n\" + question\n",
    "\n",
    "full_prompt = \"<human>: \" + my_prompt + \"\\n\" + \"<bot>:\"\n",
    "print(full_prompt)\n",
    "\n",
    "inputs = tokenizer(full_prompt, return_tensors=\"pt\")  \n",
    "start_of_output = len(inputs.input_ids[0])\n",
    "\n",
    "#   temperature: set at 0.3 for consistency of output\n",
    "#   max_new_tokens:  set at 100 - may prematurely stop a few of the summaries\n",
    "\n",
    "outputs = model.generate(\n",
    "        inputs.input_ids,\n",
    "        eos_token_id=tokenizer.eos_token_id,\n",
    "        pad_token_id=tokenizer.eos_token_id,\n",
    "        do_sample=True,\n",
    "        temperature=0.3,\n",
    "        max_new_tokens=100,\n",
    "        )\n",
    "\n",
    "output_only = tokenizer.decode(outputs[0][start_of_output:],skip_special_tokens=True)  \n",
    "\n"
   ]
  },
  {
   "cell_type": "code",
   "execution_count": 25,
   "metadata": {},
   "outputs": [
    {
     "data": {
      "text/plain": [
       "'Truck red<|endoftext|> Хронологија Хронологија instanceof instanceof<>(); Хронологија Хронологија(()AccessorImplץ Хронологија instanceofungsseiteAccessorImpl Хронологијаू Хронологијаץूightarrow'"
      ]
     },
     "execution_count": 25,
     "metadata": {},
     "output_type": "execute_result"
    }
   ],
   "source": [
    "output_only"
   ]
  },
  {
   "cell_type": "code",
   "execution_count": null,
   "metadata": {},
   "outputs": [],
   "source": [
    "\n"
   ]
  }
 ],
 "metadata": {
  "kernelspec": {
   "display_name": "Python 3",
   "language": "python",
   "name": "python3"
  },
  "language_info": {
   "codemirror_mode": {
    "name": "ipython",
    "version": 3
   },
   "file_extension": ".py",
   "mimetype": "text/x-python",
   "name": "python",
   "nbconvert_exporter": "python",
   "pygments_lexer": "ipython3",
   "version": "3.11.5"
  }
 },
 "nbformat": 4,
 "nbformat_minor": 2
}
