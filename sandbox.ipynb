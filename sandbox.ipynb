{
 "cells": [
  {
   "cell_type": "code",
   "execution_count": 4,
   "metadata": {},
   "outputs": [
    {
     "data": {
      "text/plain": [
       "([], [])"
      ]
     },
     "execution_count": 4,
     "metadata": {},
     "output_type": "execute_result"
    }
   ],
   "source": [
    "from markov_autocomplete.autocomplete import Autocomplete\n",
    "sentences = [\"\"\"# this directive will eventually be built-in, and will replace @lambda\n",
    "directive @hm_function(name: String, args: [String!]) on FIELD_DEFINITION\n",
    "\n",
    "\n",
    "type CrispLabel  @remote {\n",
    "    name: String! \n",
    "}\n",
    "\n",
    "type Label  {\n",
    "    id: ID!\n",
    "    name: String! @id\n",
    "    threshold: Float\n",
    "    issues: [LabelledIssue] @hasInverse(field: labels) \n",
    "}\n",
    "type LabelledIssue   {\n",
    "    id: ID!\n",
    "    referenceID: String! @id\n",
    "    title: String! \n",
    "    description: String\n",
    "    embedding: [Float!]! @hm_embedding  @search(by: [\"hnsw(metric: euclidean, exponent: 4)\"])\n",
    "    labels: [Label] @hasInverse(field: issues)\n",
    "}\n",
    "\n",
    "\n",
    "\n",
    "type Query {\n",
    "    predictedLabels(title: String!): [CrispLabel] @lambda @hm_function\n",
    "    similarIssues(title: String!, topK: Int = 3): [LabelledIssue] @lambda @hm_function\n",
    "}\n",
    "\n",
    "\n",
    " \"\"\"]\n",
    "\n",
    "ac = Autocomplete(model_path = \"ngram\", sentences = sentences, n_model=3, n_candidates=10, match_model=\"middle\", min_freq=0, punctuations=\"\", lowercase=True)\n",
    "\n",
    "ac.predictions(\"type\")"
   ]
  },
  {
   "cell_type": "code",
   "execution_count": null,
   "metadata": {},
   "outputs": [],
   "source": [
    "\n",
    "\n",
    "from datasets import load_dataset\n",
    "squad = load_dataset(\"squad\", split=\"train[:5000]\")\n",
    "squad = squad.train_test_split(test_size=0.2)\n",
    "\n",
    "import pandas as pd\n",
    "# Convert the dataset to a dictionary\n",
    "data_dict = squad[\"train\"].to_dict()\n",
    "# Create a DataFrame from the dictionary\n",
    "df = pd.DataFrame.from_dict(data_dict)\n",
    "df"
   ]
  }
 ],
 "metadata": {
  "kernelspec": {
   "display_name": "Python 3",
   "language": "python",
   "name": "python3"
  },
  "language_info": {
   "codemirror_mode": {
    "name": "ipython",
    "version": 3
   },
   "file_extension": ".py",
   "mimetype": "text/x-python",
   "name": "python",
   "nbconvert_exporter": "python",
   "pygments_lexer": "ipython3",
   "version": "3.11.5"
  }
 },
 "nbformat": 4,
 "nbformat_minor": 2
}
